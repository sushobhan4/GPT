{
 "cells": [
  {
   "cell_type": "code",
   "execution_count": null,
   "metadata": {},
   "outputs": [],
   "source": [
    "import os\n",
    "import torch\n",
    "import torch.nn.functional as F\n",
    "import tiktoken\n",
    "from model import GPT\n",
    "\n",
    "encoding = tiktoken.get_encoding(\"gpt2\")\n",
    "vocab_length = 50257\n",
    "sequence_length = 128\n",
    "device = torch.device(\"cuda\" if torch.cuda.is_available() else \"cpu\")\n",
    "\n",
    "#Generate Fnc\n",
    "def generate(model, seed=[50256],tempereture=1):\n",
    "    model.eval()\n",
    "\n",
    "    while True:\n",
    "        #seed.insert(0, 49960)\n",
    "        seed.append(49960)\n",
    "        if len(seed)==sequence_length:\n",
    "          break\n",
    "    # Convert to tensor and add batch dimension.\n",
    "    generated = torch.tensor(seed, dtype=torch.long, device=device).unsqueeze(0)\n",
    "\n",
    "    while True:\n",
    "        with torch.no_grad():\n",
    "            # Always feed the last 128 tokens.\n",
    "            input_tokens = generated[:, -sequence_length:]\n",
    "            logits = model(input_tokens)\n",
    "            # Reshape logits to [batch, sequence_length, vocab_length]\n",
    "            logits = logits.view(input_tokens.size(0), sequence_length, vocab_length)\n",
    "            # Use the logits for the last token.\n",
    "            probs = F.softmax(logits[:, -1, :]/tempereture, dim=-1)\n",
    "            next_token = torch.multinomial(probs, 1).item()\n",
    "            if next_token == 50256:\n",
    "                break\n",
    "            print(encoding.decode([next_token]),end='')\n",
    "        # Append the predicted token.\n",
    "        generated = torch.cat([generated, torch.tensor([[next_token]], device=device)], dim=1)\n",
    "\n",
    "# Load model and weights\n",
    "model = GPT().to(device)\n",
    "weight_path = f'saved_weights27.pth'\n",
    "if os.path.exists(weight_path):\n",
    "    model.load_state_dict(torch.load(weight_path,map_location=torch.device('cpu')))\n",
    "else:\n",
    "    print(\"Warning: No pre-trained weights found!\")"
   ]
  },
  {
   "cell_type": "code",
   "execution_count": null,
   "metadata": {},
   "outputs": [],
   "source": [
    "encoding = tiktoken.get_encoding(\"gpt2\")\n",
    "prompt=f'''The latest developments for newly opened a new work, which would be comfortable in the development of the field.'''\n",
    "print(prompt,end='')\n",
    "prompt=encoding.encode(prompt)\n",
    "generate(model,prompt,0.5)"
   ]
  }
 ],
 "metadata": {
  "kernelspec": {
   "display_name": "tf-gpu",
   "language": "python",
   "name": "python3"
  },
  "language_info": {
   "codemirror_mode": {
    "name": "ipython",
    "version": 3
   },
   "file_extension": ".py",
   "mimetype": "text/x-python",
   "name": "python",
   "nbconvert_exporter": "python",
   "pygments_lexer": "ipython3",
   "version": "3.10.15"
  }
 },
 "nbformat": 4,
 "nbformat_minor": 2
}
